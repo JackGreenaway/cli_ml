{
 "cells": [
  {
   "cell_type": "code",
   "execution_count": 1,
   "metadata": {},
   "outputs": [],
   "source": [
    "from sklearn.ensemble import RandomForestClassifier\n",
    "from sklearn.linear_model import LogisticRegression\n",
    "from sklearn.svm import SVC\n",
    "from sklearn.pipeline import Pipeline\n",
    "from sklearn.preprocessing import StandardScaler"
   ]
  },
  {
   "cell_type": "code",
   "execution_count": 2,
   "metadata": {},
   "outputs": [],
   "source": [
    "steps = Pipeline([\n",
    "        (\"scaler\", StandardScaler()),\n",
    "        (\"model\", RandomForestClassifier())\n",
    "    ])"
   ]
  },
  {
   "cell_type": "code",
   "execution_count": 16,
   "metadata": {},
   "outputs": [
    {
     "data": {
      "text/plain": [
       "{'memory': 'None',\n",
       " 'steps': \"[('scaler', StandardScaler()), ('model', RandomForestClassifier())]\",\n",
       " 'verbose': 'False',\n",
       " 'scaler': 'StandardScaler()',\n",
       " 'model': 'RandomForestClassifier()',\n",
       " 'scaler__copy': 'True',\n",
       " 'scaler__with_mean': 'True',\n",
       " 'scaler__with_std': 'True',\n",
       " 'model__bootstrap': 'True',\n",
       " 'model__ccp_alpha': '0.0',\n",
       " 'model__class_weight': 'None',\n",
       " 'model__criterion': 'gini',\n",
       " 'model__max_depth': 'None',\n",
       " 'model__max_features': 'sqrt',\n",
       " 'model__max_leaf_nodes': 'None',\n",
       " 'model__max_samples': 'None',\n",
       " 'model__min_impurity_decrease': '0.0',\n",
       " 'model__min_samples_leaf': '1',\n",
       " 'model__min_samples_split': '2',\n",
       " 'model__min_weight_fraction_leaf': '0.0',\n",
       " 'model__monotonic_cst': 'None',\n",
       " 'model__n_estimators': '100',\n",
       " 'model__n_jobs': 'None',\n",
       " 'model__oob_score': 'False',\n",
       " 'model__random_state': 'None',\n",
       " 'model__verbose': '0',\n",
       " 'model__warm_start': 'False'}"
      ]
     },
     "execution_count": 16,
     "metadata": {},
     "output_type": "execute_result"
    }
   ],
   "source": []
  }
 ],
 "metadata": {
  "kernelspec": {
   "display_name": "Python 3",
   "language": "python",
   "name": "python3"
  },
  "language_info": {
   "codemirror_mode": {
    "name": "ipython",
    "version": 3
   },
   "file_extension": ".py",
   "mimetype": "text/x-python",
   "name": "python",
   "nbconvert_exporter": "python",
   "pygments_lexer": "ipython3",
   "version": "3.9.13"
  }
 },
 "nbformat": 4,
 "nbformat_minor": 2
}
